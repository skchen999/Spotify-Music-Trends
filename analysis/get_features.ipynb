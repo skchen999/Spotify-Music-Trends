{
 "cells": [
  {
   "cell_type": "code",
   "execution_count": 16,
   "id": "2e22f8f4",
   "metadata": {},
   "outputs": [],
   "source": [
    "import pandas as pd\n",
    "import spotipy\n",
    "from spotipy.oauth2 import SpotifyClientCredentials"
   ]
  },
  {
   "cell_type": "code",
   "execution_count": 17,
   "id": "3f7bc1ed",
   "metadata": {},
   "outputs": [],
   "source": [
    "df = pd.read_csv('~/w205/spotify-trends/analysis/everyday_top50.csv')"
   ]
  },
  {
   "cell_type": "code",
   "execution_count": 18,
   "id": "96fd7241",
   "metadata": {},
   "outputs": [
    {
     "data": {
      "text/html": [
       "<div>\n",
       "<style scoped>\n",
       "    .dataframe tbody tr th:only-of-type {\n",
       "        vertical-align: middle;\n",
       "    }\n",
       "\n",
       "    .dataframe tbody tr th {\n",
       "        vertical-align: top;\n",
       "    }\n",
       "\n",
       "    .dataframe thead th {\n",
       "        text-align: right;\n",
       "    }\n",
       "</style>\n",
       "<table border=\"1\" class=\"dataframe\">\n",
       "  <thead>\n",
       "    <tr style=\"text-align: right;\">\n",
       "      <th></th>\n",
       "      <th>date</th>\n",
       "      <th>rank</th>\n",
       "      <th>song_name</th>\n",
       "      <th>song_id</th>\n",
       "      <th>album_name</th>\n",
       "      <th>artist</th>\n",
       "      <th>release_date</th>\n",
       "    </tr>\n",
       "  </thead>\n",
       "  <tbody>\n",
       "    <tr>\n",
       "      <th>0</th>\n",
       "      <td>2021-11-17 17:30:02.13</td>\n",
       "      <td>1</td>\n",
       "      <td>All Too Well (10 Minute Version) (Taylor's Ver...</td>\n",
       "      <td>5enxwA8aAbwZbf5qCHORXi</td>\n",
       "      <td>Red (Taylor's Version)</td>\n",
       "      <td>Taylor Swift</td>\n",
       "      <td>2021-11-12</td>\n",
       "    </tr>\n",
       "    <tr>\n",
       "      <th>1</th>\n",
       "      <td>2021-11-17 17:30:02.13</td>\n",
       "      <td>2</td>\n",
       "      <td>Easy On Me</td>\n",
       "      <td>0gplL1WMoJ6iYaPgMCL0gX</td>\n",
       "      <td>Easy On Me</td>\n",
       "      <td>Adele</td>\n",
       "      <td>2021-10-14</td>\n",
       "    </tr>\n",
       "    <tr>\n",
       "      <th>2</th>\n",
       "      <td>2021-11-17 17:30:02.13</td>\n",
       "      <td>3</td>\n",
       "      <td>STAY (with Justin Bieber)</td>\n",
       "      <td>5PjdY0CKGZdEuoNab3yDmX</td>\n",
       "      <td>F*CK LOVE 3: OVER YOU</td>\n",
       "      <td>The Kid LAROI</td>\n",
       "      <td>2021-07-23</td>\n",
       "    </tr>\n",
       "    <tr>\n",
       "      <th>3</th>\n",
       "      <td>2021-11-17 17:30:02.13</td>\n",
       "      <td>4</td>\n",
       "      <td>INDUSTRY BABY (feat. Jack Harlow)</td>\n",
       "      <td>5Z9KJZvQzH6PFmb8SNkxuk</td>\n",
       "      <td>MONTERO</td>\n",
       "      <td>Lil Nas X</td>\n",
       "      <td>2021-09-17</td>\n",
       "    </tr>\n",
       "    <tr>\n",
       "      <th>4</th>\n",
       "      <td>2021-11-17 17:30:02.13</td>\n",
       "      <td>5</td>\n",
       "      <td>Cold Heart - PNAU Remix</td>\n",
       "      <td>7rglLriMNBPAyuJOMGwi39</td>\n",
       "      <td>The Lockdown Sessions</td>\n",
       "      <td>Elton John</td>\n",
       "      <td>2021-10-22</td>\n",
       "    </tr>\n",
       "    <tr>\n",
       "      <th>...</th>\n",
       "      <td>...</td>\n",
       "      <td>...</td>\n",
       "      <td>...</td>\n",
       "      <td>...</td>\n",
       "      <td>...</td>\n",
       "      <td>...</td>\n",
       "      <td>...</td>\n",
       "    </tr>\n",
       "    <tr>\n",
       "      <th>795</th>\n",
       "      <td>2021-12-02 16:00:03.942</td>\n",
       "      <td>46</td>\n",
       "      <td>Meet Me At Our Spot</td>\n",
       "      <td>07MDkzWARZaLEdKxo6yArG</td>\n",
       "      <td>THE ANXIETY</td>\n",
       "      <td>THE ANXIETY</td>\n",
       "      <td>2020-03-13</td>\n",
       "    </tr>\n",
       "    <tr>\n",
       "      <th>796</th>\n",
       "      <td>2021-12-02 16:00:03.942</td>\n",
       "      <td>47</td>\n",
       "      <td>I Love You So</td>\n",
       "      <td>4SqWKzw0CbA05TGszDgMlc</td>\n",
       "      <td>I Love You So</td>\n",
       "      <td>The Walters</td>\n",
       "      <td>2014-11-28</td>\n",
       "    </tr>\n",
       "    <tr>\n",
       "      <th>797</th>\n",
       "      <td>2021-12-02 16:00:03.942</td>\n",
       "      <td>48</td>\n",
       "      <td>Mistletoe</td>\n",
       "      <td>7xapw9Oy21WpfEcib2ErSA</td>\n",
       "      <td>Under The Mistletoe (Deluxe Edition)</td>\n",
       "      <td>Justin Bieber</td>\n",
       "      <td>2011-01-01</td>\n",
       "    </tr>\n",
       "    <tr>\n",
       "      <th>798</th>\n",
       "      <td>2021-12-02 16:00:03.942</td>\n",
       "      <td>49</td>\n",
       "      <td>Todo De Ti</td>\n",
       "      <td>5RwV8BvLfX5injfqYodke9</td>\n",
       "      <td>VICE VERSA</td>\n",
       "      <td>Rauw Alejandro</td>\n",
       "      <td>2021-06-25</td>\n",
       "    </tr>\n",
       "    <tr>\n",
       "      <th>799</th>\n",
       "      <td>2021-12-02 16:00:03.942</td>\n",
       "      <td>50</td>\n",
       "      <td>Mon Amour - Remix</td>\n",
       "      <td>5TMLavqGRKNxgzMBrVpC9R</td>\n",
       "      <td>Mon Amour (Remix)</td>\n",
       "      <td>zzoilo</td>\n",
       "      <td>2021-08-18</td>\n",
       "    </tr>\n",
       "  </tbody>\n",
       "</table>\n",
       "<p>800 rows × 7 columns</p>\n",
       "</div>"
      ],
      "text/plain": [
       "                        date  rank  \\\n",
       "0     2021-11-17 17:30:02.13     1   \n",
       "1     2021-11-17 17:30:02.13     2   \n",
       "2     2021-11-17 17:30:02.13     3   \n",
       "3     2021-11-17 17:30:02.13     4   \n",
       "4     2021-11-17 17:30:02.13     5   \n",
       "..                       ...   ...   \n",
       "795  2021-12-02 16:00:03.942    46   \n",
       "796  2021-12-02 16:00:03.942    47   \n",
       "797  2021-12-02 16:00:03.942    48   \n",
       "798  2021-12-02 16:00:03.942    49   \n",
       "799  2021-12-02 16:00:03.942    50   \n",
       "\n",
       "                                             song_name  \\\n",
       "0    All Too Well (10 Minute Version) (Taylor's Ver...   \n",
       "1                                           Easy On Me   \n",
       "2                            STAY (with Justin Bieber)   \n",
       "3                    INDUSTRY BABY (feat. Jack Harlow)   \n",
       "4                              Cold Heart - PNAU Remix   \n",
       "..                                                 ...   \n",
       "795                                Meet Me At Our Spot   \n",
       "796                                      I Love You So   \n",
       "797                                          Mistletoe   \n",
       "798                                         Todo De Ti   \n",
       "799                                  Mon Amour - Remix   \n",
       "\n",
       "                    song_id                            album_name  \\\n",
       "0    5enxwA8aAbwZbf5qCHORXi                Red (Taylor's Version)   \n",
       "1    0gplL1WMoJ6iYaPgMCL0gX                            Easy On Me   \n",
       "2    5PjdY0CKGZdEuoNab3yDmX                 F*CK LOVE 3: OVER YOU   \n",
       "3    5Z9KJZvQzH6PFmb8SNkxuk                               MONTERO   \n",
       "4    7rglLriMNBPAyuJOMGwi39                 The Lockdown Sessions   \n",
       "..                      ...                                   ...   \n",
       "795  07MDkzWARZaLEdKxo6yArG                           THE ANXIETY   \n",
       "796  4SqWKzw0CbA05TGszDgMlc                         I Love You So   \n",
       "797  7xapw9Oy21WpfEcib2ErSA  Under The Mistletoe (Deluxe Edition)   \n",
       "798  5RwV8BvLfX5injfqYodke9                            VICE VERSA   \n",
       "799  5TMLavqGRKNxgzMBrVpC9R                     Mon Amour (Remix)   \n",
       "\n",
       "             artist release_date  \n",
       "0      Taylor Swift   2021-11-12  \n",
       "1             Adele   2021-10-14  \n",
       "2     The Kid LAROI   2021-07-23  \n",
       "3         Lil Nas X   2021-09-17  \n",
       "4        Elton John   2021-10-22  \n",
       "..              ...          ...  \n",
       "795     THE ANXIETY   2020-03-13  \n",
       "796     The Walters   2014-11-28  \n",
       "797   Justin Bieber   2011-01-01  \n",
       "798  Rauw Alejandro   2021-06-25  \n",
       "799          zzoilo   2021-08-18  \n",
       "\n",
       "[800 rows x 7 columns]"
      ]
     },
     "execution_count": 18,
     "metadata": {},
     "output_type": "execute_result"
    }
   ],
   "source": [
    "df"
   ]
  },
  {
   "cell_type": "code",
   "execution_count": 19,
   "id": "e3d2c465",
   "metadata": {},
   "outputs": [
    {
     "data": {
      "text/plain": [
       "86"
      ]
     },
     "execution_count": 19,
     "metadata": {},
     "output_type": "execute_result"
    }
   ],
   "source": [
    "id_list = list(set(df.song_id))\n",
    "len(id_list)"
   ]
  },
  {
   "cell_type": "code",
   "execution_count": 20,
   "id": "3711372b",
   "metadata": {},
   "outputs": [],
   "source": [
    "ClientID = 'a6691414e64144f9a6251dfe1a47b033' \n",
    "SecretID = '1f0ddcb110b3459f81325911824acbed'"
   ]
  },
  {
   "cell_type": "code",
   "execution_count": 21,
   "id": "b23f6d45",
   "metadata": {},
   "outputs": [],
   "source": [
    "sp = spotipy.Spotify(client_credentials_manager=SpotifyClientCredentials(client_id=ClientID,\n",
    "                                                                         client_secret=SecretID))"
   ]
  },
  {
   "cell_type": "code",
   "execution_count": 22,
   "id": "64d98f87",
   "metadata": {},
   "outputs": [],
   "source": [
    "features = sp.audio_features(id_list)"
   ]
  },
  {
   "cell_type": "code",
   "execution_count": 23,
   "id": "31d887ad",
   "metadata": {},
   "outputs": [
    {
     "data": {
      "text/plain": [
       "86"
      ]
     },
     "execution_count": 23,
     "metadata": {},
     "output_type": "execute_result"
    }
   ],
   "source": [
    "len(features)"
   ]
  },
  {
   "cell_type": "code",
   "execution_count": 24,
   "id": "82b2003b",
   "metadata": {},
   "outputs": [
    {
     "data": {
      "text/plain": [
       "{'danceability': 0.807,\n",
       " 'energy': 0.893,\n",
       " 'key': 11,\n",
       " 'loudness': -3.745,\n",
       " 'mode': 0,\n",
       " 'speechiness': 0.0347,\n",
       " 'acousticness': 0.0451,\n",
       " 'instrumentalness': 2.79e-05,\n",
       " 'liveness': 0.366,\n",
       " 'valence': 0.537,\n",
       " 'tempo': 126.011,\n",
       " 'type': 'audio_features',\n",
       " 'id': '3rmo8F54jFF8OgYsqTxm5d',\n",
       " 'uri': 'spotify:track:3rmo8F54jFF8OgYsqTxm5d',\n",
       " 'track_href': 'https://api.spotify.com/v1/tracks/3rmo8F54jFF8OgYsqTxm5d',\n",
       " 'analysis_url': 'https://api.spotify.com/v1/audio-analysis/3rmo8F54jFF8OgYsqTxm5d',\n",
       " 'duration_ms': 230747,\n",
       " 'time_signature': 4}"
      ]
     },
     "execution_count": 24,
     "metadata": {},
     "output_type": "execute_result"
    }
   ],
   "source": [
    "features[0]"
   ]
  },
  {
   "cell_type": "code",
   "execution_count": 25,
   "id": "f66f272b",
   "metadata": {},
   "outputs": [],
   "source": [
    "features_df = pd.DataFrame([features[i] for i in range(len(features))])"
   ]
  },
  {
   "cell_type": "code",
   "execution_count": 26,
   "id": "ac2a815a",
   "metadata": {},
   "outputs": [],
   "source": [
    "features_df = features_df[['id','valence','tempo','danceability','energy','loudness','duration_ms']]"
   ]
  },
  {
   "cell_type": "code",
   "execution_count": 27,
   "id": "aa8f610e",
   "metadata": {},
   "outputs": [],
   "source": [
    "features_df.to_csv('~/w205/spotify-trends/analysis/features.csv', index=False)"
   ]
  },
  {
   "cell_type": "code",
   "execution_count": 28,
   "id": "db7994c3",
   "metadata": {},
   "outputs": [],
   "source": [
    "final_df = df.merge(features_df, left_on='song_id', right_on='id', how='outer')"
   ]
  },
  {
   "cell_type": "code",
   "execution_count": 29,
   "id": "735e1dde",
   "metadata": {},
   "outputs": [],
   "source": [
    "final_df.to_csv('~/w205/spotify-trends/analysis/final_data.csv', index=False)"
   ]
  }
 ],
 "metadata": {
  "environment": {
   "name": "tf2-gpu.2-3.m78",
   "type": "gcloud",
   "uri": "gcr.io/deeplearning-platform-release/tf2-gpu.2-3:m78"
  },
  "kernelspec": {
   "display_name": "Python 3",
   "language": "python",
   "name": "python3"
  },
  "language_info": {
   "codemirror_mode": {
    "name": "ipython",
    "version": 3
   },
   "file_extension": ".py",
   "mimetype": "text/x-python",
   "name": "python",
   "nbconvert_exporter": "python",
   "pygments_lexer": "ipython3",
   "version": "3.7.10"
  }
 },
 "nbformat": 4,
 "nbformat_minor": 5
}
